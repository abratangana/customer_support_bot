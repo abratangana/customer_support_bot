{
 "cells": [
  {
   "cell_type": "code",
   "execution_count": 1,
   "metadata": {},
   "outputs": [
    {
     "name": "stdout",
     "output_type": "stream",
     "text": [
      "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\n",
      "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\n",
      "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\n"
     ]
    }
   ],
   "source": [
    "from dotenv import load_dotenv\n",
    "import os\n",
    "\n",
    "load_dotenv()\n",
    "\n",
    "groq_api=os.getenv('GROQ_API_KEY')\n",
    "tavily_api=os.getenv('TAVILY_API_KEY')\n",
    "langsmith_api=os.getenv('LANGCHAIN_API_KEY')\n",
    "\n",
    "print(groq_api)\n",
    "print(tavily_api)\n",
    "print(langsmith_api)"
   ]
  },
  {
   "cell_type": "markdown",
   "metadata": {},
   "source": [
    "## This project is a simple AI agent with connection to a database and a knowledge base, making it versatile for customer service."
   ]
  },
  {
   "cell_type": "code",
   "execution_count": 2,
   "metadata": {},
   "outputs": [],
   "source": [
    "os.environ['LANGCHAIN_API_KEY']=langsmith_api\n",
    "os.environ[\"LANGCHAIN_TRACING_V2\"]=\"true\"\n",
    "os.environ[\"LANGCHAIN_ENDPOINT\"]=\"https://api.smith.langchain.com\"\n",
    "os.environ[\"LANGCHAIN_PROJECT\"]=\"Customer_support_agent\""
   ]
  },
  {
   "cell_type": "markdown",
   "metadata": {},
   "source": [
    "## The database used for this example will be the same as that of the langchain documentation for practical purposes and not to compromise real data"
   ]
  },
  {
   "cell_type": "code",
   "execution_count": null,
   "metadata": {},
   "outputs": [],
   "source": []
  }
 ],
 "metadata": {
  "kernelspec": {
   "display_name": "support_agent",
   "language": "python",
   "name": "python3"
  },
  "language_info": {
   "codemirror_mode": {
    "name": "ipython",
    "version": 3
   },
   "file_extension": ".py",
   "mimetype": "text/x-python",
   "name": "python",
   "nbconvert_exporter": "python",
   "pygments_lexer": "ipython3",
   "version": "3.12.8"
  }
 },
 "nbformat": 4,
 "nbformat_minor": 2
}
